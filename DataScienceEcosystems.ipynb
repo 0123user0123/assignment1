{
 "cells": [
  {
   "cell_type": "markdown",
   "id": "3ba82019-f981-466b-bd28-e6d68c5f5abd",
   "metadata": {},
   "source": [
    "# Data Science Tools and Ecosystems"
   ]
  },
  {
   "cell_type": "markdown",
   "id": "4659f37a-8f72-4c24-9e2f-54f70fc92f87",
   "metadata": {},
   "source": [
    "In this notebook, data science tools and ecosystems are summarised."
   ]
  },
  {
   "cell_type": "markdown",
   "id": "da750ba6-61cc-4eda-84fe-c84231900a54",
   "metadata": {},
   "source": [
    "Some of the popular languages that data scientists use are:\n",
    "1. Python\n",
    "2. R\n",
    "3. Julia"
   ]
  },
  {
   "cell_type": "markdown",
   "id": "3872ba73-8bdd-4c2b-83d8-616bfb15209c",
   "metadata": {},
   "source": [
    "Some of the popular libraries used by data scientists include:\n",
    "1. sklearn\n",
    "2. matplotlib\n",
    "3. scipy\n",
    "4. ggplot2\n",
    "5. tensorflow\n",
    "6. pytorch"
   ]
  },
  {
   "cell_type": "markdown",
   "id": "f9bfb09d-f294-4753-b7ae-4ad198fbf38e",
   "metadata": {},
   "source": [
    "|Data Science Tools|\n",
    "|---|\n",
    "|Jupyter Notebooks|\n",
    "|RStudio|\n",
    "|PyCharm|"
   ]
  },
  {
   "cell_type": "markdown",
   "id": "b39c78ef-7116-4bf2-8aa6-2f216fb53c96",
   "metadata": {},
   "source": [
    "### Below are a few examples of evaluating arithmetic expressions in Python.\n"
   ]
  },
  {
   "cell_type": "code",
   "execution_count": 1,
   "id": "f032e66e-65ae-4c29-9476-31d28c6ad09e",
   "metadata": {},
   "outputs": [
    {
     "data": {
      "text/plain": [
       "17"
      ]
     },
     "execution_count": 1,
     "metadata": {},
     "output_type": "execute_result"
    }
   ],
   "source": [
    "(3*4)+5\n",
    "#This is a simple code cell to multiply then add integers"
   ]
  },
  {
   "cell_type": "code",
   "execution_count": 2,
   "id": "e3f828db-ca84-429a-8aa1-5eced23010d1",
   "metadata": {},
   "outputs": [
    {
     "data": {
      "text/plain": [
       "3.3333333333333335"
      ]
     },
     "execution_count": 2,
     "metadata": {},
     "output_type": "execute_result"
    }
   ],
   "source": [
    "#This will convert 200 minutes to hours by dividing by 60\n",
    "200/60"
   ]
  },
  {
   "cell_type": "markdown",
   "id": "19fc8504-e656-4f6b-a518-460b9159f218",
   "metadata": {},
   "source": [
    "<b> Objectives </b>\n",
    "- List popular data science languages\n",
    "- List popular data science tools\n",
    "- Introduction to Jupyter labs and Jupyter notebooks\n",
    "- Intro to Git and Github"
   ]
  },
  {
   "cell_type": "markdown",
   "id": "2d9f72da-2e54-4551-9f59-9f4f65c38508",
   "metadata": {},
   "source": [
    "## Author\n",
    "Savannah Dixon"
   ]
  }
 ],
 "metadata": {
  "kernelspec": {
   "display_name": "Python 3 (ipykernel)",
   "language": "python",
   "name": "python3"
  },
  "language_info": {
   "codemirror_mode": {
    "name": "ipython",
    "version": 3
   },
   "file_extension": ".py",
   "mimetype": "text/x-python",
   "name": "python",
   "nbconvert_exporter": "python",
   "pygments_lexer": "ipython3",
   "version": "3.12.4"
  }
 },
 "nbformat": 4,
 "nbformat_minor": 5
}
